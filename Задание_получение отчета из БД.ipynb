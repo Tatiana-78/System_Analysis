{
 "cells": [
  {
   "cell_type": "markdown",
   "id": "fa6f6270",
   "metadata": {},
   "source": [
    "**Table of contents**<a id='toc0_'></a>    \n",
    "- [Чистка данных](#toc1_)    \n",
    "  - [Чистка таблицы employees](#toc1_1_)    \n",
    "  - [Чистка таблицы salary](#toc1_2_)    \n",
    "    - [удаление дубликатов](#toc1_2_1_)    \n",
    "    - [удаление NaN и ненужных столбцов](#toc1_2_2_)    \n",
    "    - [изменение типов данных](#toc1_2_3_)    \n",
    "  - [Чистка таблицы emails](#toc1_3_)    \n",
    "- [Создание таблиц и заливка исходных данных](#toc2_)    \n",
    "  - [Функции для работы](#toc2_1_)    \n",
    "  - [Создание и заполнение таблицы employee](#toc2_2_)    \n",
    "  - [Создание и заполнение таблицы salary](#toc2_3_)    \n",
    "  - [Создание и заполнение таблицы email](#toc2_4_)    \n",
    "- [Отчет](#toc3_)    \n",
    "\n",
    "<!-- vscode-jupyter-toc-config\n",
    "\tnumbering=false\n",
    "\tanchor=true\n",
    "\tflat=false\n",
    "\tminLevel=1\n",
    "\tmaxLevel=6\n",
    "\t/vscode-jupyter-toc-config -->\n",
    "<!-- THIS CELL WILL BE REPLACED ON TOC UPDATE. DO NOT WRITE YOUR TEXT IN THIS CELL -->"
   ]
  },
  {
   "cell_type": "markdown",
   "id": "ab709e4b",
   "metadata": {},
   "source": [
    "Написать программу на языке Python, которая формирует отчет о средней ЗП по сотрудникам за 2020 год. БД состоит из следующих таблиц:\n",
    " \n",
    "Table_1: \n",
    "Employees(\n",
    "ID int, -- ID сотрудника\n",
    "NAME1 str, -- Фамилия сотрудника\n",
    "NAME2 str, -- Имя сотрудника\n",
    "NAME3 str -- Отчество сотрудника\n",
    ")\n",
    "\n",
    "Table_2: \n",
    "Salary(\n",
    "ID int, -- ID сотрудника\n",
    "dt date, -- Дата выплаты\n",
    "Salary_Type str, -- Тип суммы (salary, bonus)\n",
    "Amount double -- выплаченная сумма\n",
    ")\n",
    " \n",
    "Table_3: \n",
    "Emails(\n",
    "ID int, -- ID Email\n",
    "Empl_ID int, -- ID сотрудника\n",
    "Email str -- Email адрес\n",
    ")\n",
    " \n",
    "Условия: \n",
    "1.\tОтчет должен содержать колонки Empl_ID, FIO, Salary, Bonus, Email и соответствовать данным, представленным в разделе \"Ожидаемый результат отчета\"\n",
    "2.\tСредние значения для Salary и Bonus вычисляются раздельно\n",
    "3.\tЕсли у сотрудника есть несколько email, в отчете должны быть представлены строки отдельно для каждого email\n",
    "4.\tОтчет НЕ должен содержать дубликатов строк\n",
    " \n",
    "Дополнительно: \n",
    "1.\tВывод производится через функцию print\n",
    "2.\tДля формирования отчета необходимо максимально использовать преимущества основных типов коллекций Python (list, dict, tuple, set), без использования pandas \n",
    " \n",
    "Пример строки ожидаемого формата результата отчета: \n",
    "1, Шершуков Виктор Кузьмич, 51750.0, 9583.333333333334, shershuko@mail.ru"
   ]
  },
  {
   "cell_type": "code",
   "execution_count": 5,
   "id": "1e7370ff",
   "metadata": {},
   "outputs": [],
   "source": [
    "import sqlite3 \n",
    "from sqlite3 import Error \n",
    "import pandas as pd"
   ]
  },
  {
   "cell_type": "markdown",
   "id": "0c86955b",
   "metadata": {},
   "source": [
    "Несмотря на то, что в задании есть указание обходиться без Pandas, но по-моему, с Pandas гораздо удобнее видеть и удалять ненужные столбцы и строки, проверять на дубликаты, менять типы данных. После такой обработки можно заливать чистые данные в базу"
   ]
  },
  {
   "cell_type": "markdown",
   "id": "031df770",
   "metadata": {},
   "source": [
    "# <a id='toc1_'></a>[Чистка данных](#toc0_)"
   ]
  },
  {
   "cell_type": "markdown",
   "metadata": {},
   "source": [
    "## <a id='toc1_1_'></a>[Чистка таблицы employees](#toc0_)"
   ]
  },
  {
   "cell_type": "code",
   "execution_count": 129,
   "id": "7a357908",
   "metadata": {},
   "outputs": [
    {
     "data": {
      "text/html": [
       "<div>\n",
       "<style scoped>\n",
       "    .dataframe tbody tr th:only-of-type {\n",
       "        vertical-align: middle;\n",
       "    }\n",
       "\n",
       "    .dataframe tbody tr th {\n",
       "        vertical-align: top;\n",
       "    }\n",
       "\n",
       "    .dataframe thead th {\n",
       "        text-align: right;\n",
       "    }\n",
       "</style>\n",
       "<table border=\"1\" class=\"dataframe\">\n",
       "  <thead>\n",
       "    <tr style=\"text-align: right;\">\n",
       "      <th></th>\n",
       "      <th></th>\n",
       "      <th></th>\n",
       "      <th></th>\n",
       "      <th></th>\n",
       "      <th>employees = [</th>\n",
       "    </tr>\n",
       "  </thead>\n",
       "  <tbody>\n",
       "    <tr>\n",
       "      <th>(1</th>\n",
       "      <th>'Шершуков'</th>\n",
       "      <th>'Виктор'</th>\n",
       "      <th>'Кузьмич'</th>\n",
       "      <th>)</th>\n",
       "      <td>NaN</td>\n",
       "    </tr>\n",
       "    <tr>\n",
       "      <th>(2</th>\n",
       "      <th>'Битова'</th>\n",
       "      <th>'Анастасия'</th>\n",
       "      <th>'Юрьевна'</th>\n",
       "      <th>)</th>\n",
       "      <td>NaN</td>\n",
       "    </tr>\n",
       "    <tr>\n",
       "      <th>(3</th>\n",
       "      <th>'Кириллов'</th>\n",
       "      <th>'Валентин'</th>\n",
       "      <th>'Владиславович'</th>\n",
       "      <th>)</th>\n",
       "      <td>NaN</td>\n",
       "    </tr>\n",
       "    <tr>\n",
       "      <th>(4</th>\n",
       "      <th>'Игнатьев'</th>\n",
       "      <th>'Игорь'</th>\n",
       "      <th>'Дмитриевич'</th>\n",
       "      <th>)</th>\n",
       "      <td>NaN</td>\n",
       "    </tr>\n",
       "    <tr>\n",
       "      <th>]</th>\n",
       "      <th>NaN</th>\n",
       "      <th>NaN</th>\n",
       "      <th>NaN</th>\n",
       "      <th>NaN</th>\n",
       "      <td>NaN</td>\n",
       "    </tr>\n",
       "  </tbody>\n",
       "</table>\n",
       "</div>"
      ],
      "text/plain": [
       "                                                      employees = [\n",
       "    (1  'Шершуков'  'Виктор'     'Кузьмич'       )              NaN\n",
       "    (2  'Битова'    'Анастасия'  'Юрьевна'       )              NaN\n",
       "    (3  'Кириллов'  'Валентин'   'Владиславович' )              NaN\n",
       "    (4  'Игнатьев'  'Игорь'      'Дмитриевич'    )              NaN\n",
       "]      NaN         NaN          NaN              NaN            NaN"
      ]
     },
     "execution_count": 129,
     "metadata": {},
     "output_type": "execute_result"
    }
   ],
   "source": [
    "df_1 = pd.read_csv('data/employess_dict.txt')\n",
    "df_1"
   ]
  },
  {
   "cell_type": "code",
   "execution_count": 125,
   "id": "d19820f2",
   "metadata": {},
   "outputs": [
    {
     "name": "stdout",
     "output_type": "stream",
     "text": [
      "employees = [   NaN\n",
      "Name: (    (2,  'Битова',  'Анастасия',  'Юрьевна', )), dtype: float64\n"
     ]
    }
   ],
   "source": [
    "print(df_1.iloc[1])"
   ]
  },
  {
   "cell_type": "markdown",
   "id": "26082dd1",
   "metadata": {},
   "source": [
    "К сожалению, не успеваю справиться с парсингом этих данных"
   ]
  },
  {
   "cell_type": "markdown",
   "metadata": {},
   "source": [
    "## <a id='toc1_2_'></a>[Чистка таблицы salary](#toc0_)"
   ]
  },
  {
   "cell_type": "code",
   "execution_count": 27,
   "id": "7ef13866",
   "metadata": {},
   "outputs": [
    {
     "data": {
      "text/html": [
       "<div>\n",
       "<style scoped>\n",
       "    .dataframe tbody tr th:only-of-type {\n",
       "        vertical-align: middle;\n",
       "    }\n",
       "\n",
       "    .dataframe tbody tr th {\n",
       "        vertical-align: top;\n",
       "    }\n",
       "\n",
       "    .dataframe thead th {\n",
       "        text-align: right;\n",
       "    }\n",
       "</style>\n",
       "<table border=\"1\" class=\"dataframe\">\n",
       "  <thead>\n",
       "    <tr style=\"text-align: right;\">\n",
       "      <th></th>\n",
       "      <th>ID</th>\n",
       "      <th>DATE</th>\n",
       "      <th>TYPE</th>\n",
       "      <th>VALUE</th>\n",
       "      <th>Unnamed: 4</th>\n",
       "    </tr>\n",
       "  </thead>\n",
       "  <tbody>\n",
       "    <tr>\n",
       "      <th>0</th>\n",
       "      <td>1.0</td>\n",
       "      <td>2019-12-01</td>\n",
       "      <td>salary</td>\n",
       "      <td>50000.0</td>\n",
       "      <td>NaN</td>\n",
       "    </tr>\n",
       "    <tr>\n",
       "      <th>1</th>\n",
       "      <td>NaN</td>\n",
       "      <td>NaN</td>\n",
       "      <td>NaN</td>\n",
       "      <td>NaN</td>\n",
       "      <td>NaN</td>\n",
       "    </tr>\n",
       "    <tr>\n",
       "      <th>2</th>\n",
       "      <td>1.0</td>\n",
       "      <td>2020-01-01</td>\n",
       "      <td>salary</td>\n",
       "      <td>50000.0</td>\n",
       "      <td>NaN</td>\n",
       "    </tr>\n",
       "    <tr>\n",
       "      <th>3</th>\n",
       "      <td>1.0</td>\n",
       "      <td>2020-02-01</td>\n",
       "      <td>salary</td>\n",
       "      <td>50000.0</td>\n",
       "      <td>NaN</td>\n",
       "    </tr>\n",
       "    <tr>\n",
       "      <th>4</th>\n",
       "      <td>1.0</td>\n",
       "      <td>2020-03-01</td>\n",
       "      <td>salary</td>\n",
       "      <td>50000.0</td>\n",
       "      <td>NaN</td>\n",
       "    </tr>\n",
       "    <tr>\n",
       "      <th>...</th>\n",
       "      <td>...</td>\n",
       "      <td>...</td>\n",
       "      <td>...</td>\n",
       "      <td>...</td>\n",
       "      <td>...</td>\n",
       "    </tr>\n",
       "    <tr>\n",
       "      <th>98</th>\n",
       "      <td>4.0</td>\n",
       "      <td>2020-09-01</td>\n",
       "      <td>bonus</td>\n",
       "      <td>7000.0</td>\n",
       "      <td>NaN</td>\n",
       "    </tr>\n",
       "    <tr>\n",
       "      <th>99</th>\n",
       "      <td>4.0</td>\n",
       "      <td>2020-10-01</td>\n",
       "      <td>bonus</td>\n",
       "      <td>7000.0</td>\n",
       "      <td>NaN</td>\n",
       "    </tr>\n",
       "    <tr>\n",
       "      <th>100</th>\n",
       "      <td>4.0</td>\n",
       "      <td>2020-11-01</td>\n",
       "      <td>bonus</td>\n",
       "      <td>7000.0</td>\n",
       "      <td>NaN</td>\n",
       "    </tr>\n",
       "    <tr>\n",
       "      <th>101</th>\n",
       "      <td>4.0</td>\n",
       "      <td>2020-12-01</td>\n",
       "      <td>bonus</td>\n",
       "      <td>7000.0</td>\n",
       "      <td>NaN</td>\n",
       "    </tr>\n",
       "    <tr>\n",
       "      <th>102</th>\n",
       "      <td>4.0</td>\n",
       "      <td>2021-01-01</td>\n",
       "      <td>bonus</td>\n",
       "      <td>7000.0</td>\n",
       "      <td>NaN</td>\n",
       "    </tr>\n",
       "  </tbody>\n",
       "</table>\n",
       "<p>103 rows × 5 columns</p>\n",
       "</div>"
      ],
      "text/plain": [
       "      ID        DATE    TYPE    VALUE  Unnamed: 4\n",
       "0    1.0  2019-12-01  salary  50000.0         NaN\n",
       "1    NaN         NaN     NaN      NaN         NaN\n",
       "2    1.0  2020-01-01  salary  50000.0         NaN\n",
       "3    1.0  2020-02-01  salary  50000.0         NaN\n",
       "4    1.0  2020-03-01  salary  50000.0         NaN\n",
       "..   ...         ...     ...      ...         ...\n",
       "98   4.0  2020-09-01   bonus   7000.0         NaN\n",
       "99   4.0  2020-10-01   bonus   7000.0         NaN\n",
       "100  4.0  2020-11-01   bonus   7000.0         NaN\n",
       "101  4.0  2020-12-01   bonus   7000.0         NaN\n",
       "102  4.0  2021-01-01   bonus   7000.0         NaN\n",
       "\n",
       "[103 rows x 5 columns]"
      ]
     },
     "execution_count": 27,
     "metadata": {},
     "output_type": "execute_result"
    }
   ],
   "source": [
    "df_2 = pd.read_csv('data/salary.csv', delimiter=';')\n",
    "df_2"
   ]
  },
  {
   "cell_type": "markdown",
   "metadata": {},
   "source": [
    "### <a id='toc1_2_1_'></a>[удаление дубликатов](#toc0_)"
   ]
  },
  {
   "cell_type": "code",
   "execution_count": 7,
   "id": "38588c3b",
   "metadata": {},
   "outputs": [
    {
     "data": {
      "text/plain": [
       "4"
      ]
     },
     "execution_count": 7,
     "metadata": {},
     "output_type": "execute_result"
    }
   ],
   "source": [
    "df_2.duplicated().sum()"
   ]
  },
  {
   "cell_type": "code",
   "execution_count": 28,
   "id": "557d53b0",
   "metadata": {},
   "outputs": [
    {
     "data": {
      "text/html": [
       "<div>\n",
       "<style scoped>\n",
       "    .dataframe tbody tr th:only-of-type {\n",
       "        vertical-align: middle;\n",
       "    }\n",
       "\n",
       "    .dataframe tbody tr th {\n",
       "        vertical-align: top;\n",
       "    }\n",
       "\n",
       "    .dataframe thead th {\n",
       "        text-align: right;\n",
       "    }\n",
       "</style>\n",
       "<table border=\"1\" class=\"dataframe\">\n",
       "  <thead>\n",
       "    <tr style=\"text-align: right;\">\n",
       "      <th></th>\n",
       "      <th>ID</th>\n",
       "      <th>DATE</th>\n",
       "      <th>TYPE</th>\n",
       "      <th>VALUE</th>\n",
       "      <th>Unnamed: 4</th>\n",
       "    </tr>\n",
       "  </thead>\n",
       "  <tbody>\n",
       "    <tr>\n",
       "      <th>0</th>\n",
       "      <td>1.0</td>\n",
       "      <td>2019-12-01</td>\n",
       "      <td>salary</td>\n",
       "      <td>50000.0</td>\n",
       "      <td>NaN</td>\n",
       "    </tr>\n",
       "    <tr>\n",
       "      <th>1</th>\n",
       "      <td>NaN</td>\n",
       "      <td>NaN</td>\n",
       "      <td>NaN</td>\n",
       "      <td>NaN</td>\n",
       "      <td>NaN</td>\n",
       "    </tr>\n",
       "    <tr>\n",
       "      <th>2</th>\n",
       "      <td>1.0</td>\n",
       "      <td>2020-01-01</td>\n",
       "      <td>salary</td>\n",
       "      <td>50000.0</td>\n",
       "      <td>NaN</td>\n",
       "    </tr>\n",
       "    <tr>\n",
       "      <th>3</th>\n",
       "      <td>1.0</td>\n",
       "      <td>2020-02-01</td>\n",
       "      <td>salary</td>\n",
       "      <td>50000.0</td>\n",
       "      <td>NaN</td>\n",
       "    </tr>\n",
       "    <tr>\n",
       "      <th>4</th>\n",
       "      <td>1.0</td>\n",
       "      <td>2020-03-01</td>\n",
       "      <td>salary</td>\n",
       "      <td>50000.0</td>\n",
       "      <td>NaN</td>\n",
       "    </tr>\n",
       "    <tr>\n",
       "      <th>...</th>\n",
       "      <td>...</td>\n",
       "      <td>...</td>\n",
       "      <td>...</td>\n",
       "      <td>...</td>\n",
       "      <td>...</td>\n",
       "    </tr>\n",
       "    <tr>\n",
       "      <th>98</th>\n",
       "      <td>4.0</td>\n",
       "      <td>2020-09-01</td>\n",
       "      <td>bonus</td>\n",
       "      <td>7000.0</td>\n",
       "      <td>NaN</td>\n",
       "    </tr>\n",
       "    <tr>\n",
       "      <th>99</th>\n",
       "      <td>4.0</td>\n",
       "      <td>2020-10-01</td>\n",
       "      <td>bonus</td>\n",
       "      <td>7000.0</td>\n",
       "      <td>NaN</td>\n",
       "    </tr>\n",
       "    <tr>\n",
       "      <th>100</th>\n",
       "      <td>4.0</td>\n",
       "      <td>2020-11-01</td>\n",
       "      <td>bonus</td>\n",
       "      <td>7000.0</td>\n",
       "      <td>NaN</td>\n",
       "    </tr>\n",
       "    <tr>\n",
       "      <th>101</th>\n",
       "      <td>4.0</td>\n",
       "      <td>2020-12-01</td>\n",
       "      <td>bonus</td>\n",
       "      <td>7000.0</td>\n",
       "      <td>NaN</td>\n",
       "    </tr>\n",
       "    <tr>\n",
       "      <th>102</th>\n",
       "      <td>4.0</td>\n",
       "      <td>2021-01-01</td>\n",
       "      <td>bonus</td>\n",
       "      <td>7000.0</td>\n",
       "      <td>NaN</td>\n",
       "    </tr>\n",
       "  </tbody>\n",
       "</table>\n",
       "<p>99 rows × 5 columns</p>\n",
       "</div>"
      ],
      "text/plain": [
       "      ID        DATE    TYPE    VALUE  Unnamed: 4\n",
       "0    1.0  2019-12-01  salary  50000.0         NaN\n",
       "1    NaN         NaN     NaN      NaN         NaN\n",
       "2    1.0  2020-01-01  salary  50000.0         NaN\n",
       "3    1.0  2020-02-01  salary  50000.0         NaN\n",
       "4    1.0  2020-03-01  salary  50000.0         NaN\n",
       "..   ...         ...     ...      ...         ...\n",
       "98   4.0  2020-09-01   bonus   7000.0         NaN\n",
       "99   4.0  2020-10-01   bonus   7000.0         NaN\n",
       "100  4.0  2020-11-01   bonus   7000.0         NaN\n",
       "101  4.0  2020-12-01   bonus   7000.0         NaN\n",
       "102  4.0  2021-01-01   bonus   7000.0         NaN\n",
       "\n",
       "[99 rows x 5 columns]"
      ]
     },
     "execution_count": 28,
     "metadata": {},
     "output_type": "execute_result"
    }
   ],
   "source": [
    "df_2 = df_2.drop_duplicates()\n",
    "df_2"
   ]
  },
  {
   "cell_type": "markdown",
   "metadata": {},
   "source": [
    "### <a id='toc1_2_2_'></a>[удаление NaN и ненужных столбцов](#toc0_)"
   ]
  },
  {
   "cell_type": "code",
   "execution_count": 105,
   "id": "f5a68f43",
   "metadata": {},
   "outputs": [
    {
     "data": {
      "text/plain": [
       "ID             1\n",
       "DATE           1\n",
       "TYPE           1\n",
       "VALUE          1\n",
       "Unnamed: 4    99\n",
       "dtype: int64"
      ]
     },
     "execution_count": 105,
     "metadata": {},
     "output_type": "execute_result"
    }
   ],
   "source": [
    "df_2.isna().sum()"
   ]
  },
  {
   "cell_type": "code",
   "execution_count": 29,
   "id": "d4ae1c59",
   "metadata": {},
   "outputs": [
    {
     "data": {
      "text/html": [
       "<div>\n",
       "<style scoped>\n",
       "    .dataframe tbody tr th:only-of-type {\n",
       "        vertical-align: middle;\n",
       "    }\n",
       "\n",
       "    .dataframe tbody tr th {\n",
       "        vertical-align: top;\n",
       "    }\n",
       "\n",
       "    .dataframe thead th {\n",
       "        text-align: right;\n",
       "    }\n",
       "</style>\n",
       "<table border=\"1\" class=\"dataframe\">\n",
       "  <thead>\n",
       "    <tr style=\"text-align: right;\">\n",
       "      <th></th>\n",
       "      <th>ID</th>\n",
       "      <th>DATE</th>\n",
       "      <th>TYPE</th>\n",
       "      <th>VALUE</th>\n",
       "    </tr>\n",
       "  </thead>\n",
       "  <tbody>\n",
       "    <tr>\n",
       "      <th>0</th>\n",
       "      <td>1.0</td>\n",
       "      <td>2019-12-01</td>\n",
       "      <td>salary</td>\n",
       "      <td>50000.0</td>\n",
       "    </tr>\n",
       "    <tr>\n",
       "      <th>1</th>\n",
       "      <td>1.0</td>\n",
       "      <td>2020-01-01</td>\n",
       "      <td>salary</td>\n",
       "      <td>50000.0</td>\n",
       "    </tr>\n",
       "    <tr>\n",
       "      <th>2</th>\n",
       "      <td>1.0</td>\n",
       "      <td>2020-02-01</td>\n",
       "      <td>salary</td>\n",
       "      <td>50000.0</td>\n",
       "    </tr>\n",
       "    <tr>\n",
       "      <th>3</th>\n",
       "      <td>1.0</td>\n",
       "      <td>2020-03-01</td>\n",
       "      <td>salary</td>\n",
       "      <td>50000.0</td>\n",
       "    </tr>\n",
       "    <tr>\n",
       "      <th>4</th>\n",
       "      <td>1.0</td>\n",
       "      <td>2020-04-01</td>\n",
       "      <td>salary</td>\n",
       "      <td>50000.0</td>\n",
       "    </tr>\n",
       "    <tr>\n",
       "      <th>...</th>\n",
       "      <td>...</td>\n",
       "      <td>...</td>\n",
       "      <td>...</td>\n",
       "      <td>...</td>\n",
       "    </tr>\n",
       "    <tr>\n",
       "      <th>93</th>\n",
       "      <td>4.0</td>\n",
       "      <td>2020-09-01</td>\n",
       "      <td>bonus</td>\n",
       "      <td>7000.0</td>\n",
       "    </tr>\n",
       "    <tr>\n",
       "      <th>94</th>\n",
       "      <td>4.0</td>\n",
       "      <td>2020-10-01</td>\n",
       "      <td>bonus</td>\n",
       "      <td>7000.0</td>\n",
       "    </tr>\n",
       "    <tr>\n",
       "      <th>95</th>\n",
       "      <td>4.0</td>\n",
       "      <td>2020-11-01</td>\n",
       "      <td>bonus</td>\n",
       "      <td>7000.0</td>\n",
       "    </tr>\n",
       "    <tr>\n",
       "      <th>96</th>\n",
       "      <td>4.0</td>\n",
       "      <td>2020-12-01</td>\n",
       "      <td>bonus</td>\n",
       "      <td>7000.0</td>\n",
       "    </tr>\n",
       "    <tr>\n",
       "      <th>97</th>\n",
       "      <td>4.0</td>\n",
       "      <td>2021-01-01</td>\n",
       "      <td>bonus</td>\n",
       "      <td>7000.0</td>\n",
       "    </tr>\n",
       "  </tbody>\n",
       "</table>\n",
       "<p>98 rows × 4 columns</p>\n",
       "</div>"
      ],
      "text/plain": [
       "     ID        DATE    TYPE    VALUE\n",
       "0   1.0  2019-12-01  salary  50000.0\n",
       "1   1.0  2020-01-01  salary  50000.0\n",
       "2   1.0  2020-02-01  salary  50000.0\n",
       "3   1.0  2020-03-01  salary  50000.0\n",
       "4   1.0  2020-04-01  salary  50000.0\n",
       "..  ...         ...     ...      ...\n",
       "93  4.0  2020-09-01   bonus   7000.0\n",
       "94  4.0  2020-10-01   bonus   7000.0\n",
       "95  4.0  2020-11-01   bonus   7000.0\n",
       "96  4.0  2020-12-01   bonus   7000.0\n",
       "97  4.0  2021-01-01   bonus   7000.0\n",
       "\n",
       "[98 rows x 4 columns]"
      ]
     },
     "execution_count": 29,
     "metadata": {},
     "output_type": "execute_result"
    }
   ],
   "source": [
    "df_2 = df_2.drop(1, axis='index').reset_index()\n",
    "df_2 = df_2.drop(columns=['index', 'Unnamed: 4'], axis=1)\n",
    "df_2"
   ]
  },
  {
   "cell_type": "code",
   "execution_count": 144,
   "id": "7c9a968e",
   "metadata": {},
   "outputs": [
    {
     "data": {
      "text/plain": [
       "ID       0\n",
       "DATE     0\n",
       "TYPE     0\n",
       "VALUE    0\n",
       "dtype: int64"
      ]
     },
     "execution_count": 144,
     "metadata": {},
     "output_type": "execute_result"
    }
   ],
   "source": [
    "df_2.isna().sum()"
   ]
  },
  {
   "cell_type": "markdown",
   "metadata": {},
   "source": [
    "### <a id='toc1_2_3_'></a>[изменение типов данных](#toc0_)"
   ]
  },
  {
   "cell_type": "code",
   "execution_count": 145,
   "id": "87e05505",
   "metadata": {},
   "outputs": [
    {
     "data": {
      "text/plain": [
       "ID       float64\n",
       "DATE      object\n",
       "TYPE      object\n",
       "VALUE    float64\n",
       "dtype: object"
      ]
     },
     "execution_count": 145,
     "metadata": {},
     "output_type": "execute_result"
    }
   ],
   "source": [
    "df_2.dtypes"
   ]
  },
  {
   "cell_type": "code",
   "execution_count": 30,
   "id": "649adc2f",
   "metadata": {},
   "outputs": [
    {
     "data": {
      "text/plain": [
       "ID                int32\n",
       "DATE     datetime64[ns]\n",
       "TYPE             object\n",
       "VALUE             int32\n",
       "dtype: object"
      ]
     },
     "execution_count": 30,
     "metadata": {},
     "output_type": "execute_result"
    }
   ],
   "source": [
    "df_2['DATE'] = pd.to_datetime(df_2['DATE'])\n",
    "df_2['ID'] = df_2['ID'].astype(int)\n",
    "df_2['VALUE'] = df_2['VALUE'].astype(int)\n",
    "df_2.dtypes"
   ]
  },
  {
   "cell_type": "code",
   "execution_count": 31,
   "id": "f76d529a",
   "metadata": {},
   "outputs": [
    {
     "data": {
      "text/html": [
       "<div>\n",
       "<style scoped>\n",
       "    .dataframe tbody tr th:only-of-type {\n",
       "        vertical-align: middle;\n",
       "    }\n",
       "\n",
       "    .dataframe tbody tr th {\n",
       "        vertical-align: top;\n",
       "    }\n",
       "\n",
       "    .dataframe thead th {\n",
       "        text-align: right;\n",
       "    }\n",
       "</style>\n",
       "<table border=\"1\" class=\"dataframe\">\n",
       "  <thead>\n",
       "    <tr style=\"text-align: right;\">\n",
       "      <th></th>\n",
       "      <th>ID</th>\n",
       "      <th>DATE</th>\n",
       "      <th>TYPE</th>\n",
       "      <th>VALUE</th>\n",
       "    </tr>\n",
       "  </thead>\n",
       "  <tbody>\n",
       "    <tr>\n",
       "      <th>0</th>\n",
       "      <td>1</td>\n",
       "      <td>2019-12-01</td>\n",
       "      <td>salary</td>\n",
       "      <td>50000</td>\n",
       "    </tr>\n",
       "    <tr>\n",
       "      <th>1</th>\n",
       "      <td>1</td>\n",
       "      <td>2020-01-01</td>\n",
       "      <td>salary</td>\n",
       "      <td>50000</td>\n",
       "    </tr>\n",
       "    <tr>\n",
       "      <th>2</th>\n",
       "      <td>1</td>\n",
       "      <td>2020-02-01</td>\n",
       "      <td>salary</td>\n",
       "      <td>50000</td>\n",
       "    </tr>\n",
       "    <tr>\n",
       "      <th>3</th>\n",
       "      <td>1</td>\n",
       "      <td>2020-03-01</td>\n",
       "      <td>salary</td>\n",
       "      <td>50000</td>\n",
       "    </tr>\n",
       "    <tr>\n",
       "      <th>4</th>\n",
       "      <td>1</td>\n",
       "      <td>2020-04-01</td>\n",
       "      <td>salary</td>\n",
       "      <td>50000</td>\n",
       "    </tr>\n",
       "    <tr>\n",
       "      <th>...</th>\n",
       "      <td>...</td>\n",
       "      <td>...</td>\n",
       "      <td>...</td>\n",
       "      <td>...</td>\n",
       "    </tr>\n",
       "    <tr>\n",
       "      <th>93</th>\n",
       "      <td>4</td>\n",
       "      <td>2020-09-01</td>\n",
       "      <td>bonus</td>\n",
       "      <td>7000</td>\n",
       "    </tr>\n",
       "    <tr>\n",
       "      <th>94</th>\n",
       "      <td>4</td>\n",
       "      <td>2020-10-01</td>\n",
       "      <td>bonus</td>\n",
       "      <td>7000</td>\n",
       "    </tr>\n",
       "    <tr>\n",
       "      <th>95</th>\n",
       "      <td>4</td>\n",
       "      <td>2020-11-01</td>\n",
       "      <td>bonus</td>\n",
       "      <td>7000</td>\n",
       "    </tr>\n",
       "    <tr>\n",
       "      <th>96</th>\n",
       "      <td>4</td>\n",
       "      <td>2020-12-01</td>\n",
       "      <td>bonus</td>\n",
       "      <td>7000</td>\n",
       "    </tr>\n",
       "    <tr>\n",
       "      <th>97</th>\n",
       "      <td>4</td>\n",
       "      <td>2021-01-01</td>\n",
       "      <td>bonus</td>\n",
       "      <td>7000</td>\n",
       "    </tr>\n",
       "  </tbody>\n",
       "</table>\n",
       "<p>98 rows × 4 columns</p>\n",
       "</div>"
      ],
      "text/plain": [
       "    ID       DATE    TYPE  VALUE\n",
       "0    1 2019-12-01  salary  50000\n",
       "1    1 2020-01-01  salary  50000\n",
       "2    1 2020-02-01  salary  50000\n",
       "3    1 2020-03-01  salary  50000\n",
       "4    1 2020-04-01  salary  50000\n",
       "..  ..        ...     ...    ...\n",
       "93   4 2020-09-01   bonus   7000\n",
       "94   4 2020-10-01   bonus   7000\n",
       "95   4 2020-11-01   bonus   7000\n",
       "96   4 2020-12-01   bonus   7000\n",
       "97   4 2021-01-01   bonus   7000\n",
       "\n",
       "[98 rows x 4 columns]"
      ]
     },
     "execution_count": 31,
     "metadata": {},
     "output_type": "execute_result"
    }
   ],
   "source": [
    "df_2"
   ]
  },
  {
   "cell_type": "markdown",
   "id": "25566a2c",
   "metadata": {},
   "source": [
    "Данные по salary готовы, 98 строк, типы данных соответствуют назначению"
   ]
  },
  {
   "cell_type": "markdown",
   "metadata": {},
   "source": [
    "## <a id='toc1_3_'></a>[Чистка таблицы emails](#toc0_)"
   ]
  },
  {
   "cell_type": "code",
   "execution_count": 18,
   "id": "decca17d",
   "metadata": {},
   "outputs": [
    {
     "data": {
      "text/html": [
       "<div>\n",
       "<style scoped>\n",
       "    .dataframe tbody tr th:only-of-type {\n",
       "        vertical-align: middle;\n",
       "    }\n",
       "\n",
       "    .dataframe tbody tr th {\n",
       "        vertical-align: top;\n",
       "    }\n",
       "\n",
       "    .dataframe thead th {\n",
       "        text-align: right;\n",
       "    }\n",
       "</style>\n",
       "<table border=\"1\" class=\"dataframe\">\n",
       "  <thead>\n",
       "    <tr style=\"text-align: right;\">\n",
       "      <th></th>\n",
       "      <th>ID</th>\n",
       "      <th>PERSON_ID</th>\n",
       "      <th>EMAIL</th>\n",
       "    </tr>\n",
       "  </thead>\n",
       "  <tbody>\n",
       "    <tr>\n",
       "      <th>0</th>\n",
       "      <td>1</td>\n",
       "      <td>1</td>\n",
       "      <td>shershuko@mail.ru</td>\n",
       "    </tr>\n",
       "    <tr>\n",
       "      <th>1</th>\n",
       "      <td>2</td>\n",
       "      <td>1</td>\n",
       "      <td>shershuko-v@mail.ru</td>\n",
       "    </tr>\n",
       "    <tr>\n",
       "      <th>2</th>\n",
       "      <td>3</td>\n",
       "      <td>2</td>\n",
       "      <td>bitova@mail.ru</td>\n",
       "    </tr>\n",
       "    <tr>\n",
       "      <th>3</th>\n",
       "      <td>4</td>\n",
       "      <td>2</td>\n",
       "      <td>bitova@mail.ru</td>\n",
       "    </tr>\n",
       "    <tr>\n",
       "      <th>4</th>\n",
       "      <td>5</td>\n",
       "      <td>3</td>\n",
       "      <td>kirillov@mail.ru</td>\n",
       "    </tr>\n",
       "    <tr>\n",
       "      <th>5</th>\n",
       "      <td>6</td>\n",
       "      <td>3</td>\n",
       "      <td>kirillov@mail.ru</td>\n",
       "    </tr>\n",
       "  </tbody>\n",
       "</table>\n",
       "</div>"
      ],
      "text/plain": [
       "  ID PERSON_ID                EMAIL\n",
       "0  1         1    shershuko@mail.ru\n",
       "1  2         1  shershuko-v@mail.ru\n",
       "2  3         2       bitova@mail.ru\n",
       "3  4         2       bitova@mail.ru\n",
       "4  5         3     kirillov@mail.ru\n",
       "5  6         3     kirillov@mail.ru"
      ]
     },
     "execution_count": 18,
     "metadata": {},
     "output_type": "execute_result"
    }
   ],
   "source": [
    "df_3 = pd.read_parquet('data/emails.gzip', engine='pyarrow')\n",
    "df_3"
   ]
  },
  {
   "cell_type": "markdown",
   "id": "aa190adb",
   "metadata": {},
   "source": [
    "Если удалить столбец ID, появляются дубликаты данных. Видимо, они появились в результате каких-то объединений данных, но практического смысла не несут. Удалим столбец и затем дубликаты"
   ]
  },
  {
   "cell_type": "code",
   "execution_count": 19,
   "id": "b163045f",
   "metadata": {},
   "outputs": [],
   "source": [
    "df_3 = df_3.drop(columns=['ID'], axis=1)\n",
    "df_3 = df_3.drop_duplicates()"
   ]
  },
  {
   "cell_type": "code",
   "execution_count": 147,
   "id": "6ab052a5",
   "metadata": {},
   "outputs": [
    {
     "data": {
      "text/plain": [
       "ID           object\n",
       "PERSON_ID    object\n",
       "EMAIL        object\n",
       "dtype: object"
      ]
     },
     "execution_count": 147,
     "metadata": {},
     "output_type": "execute_result"
    }
   ],
   "source": [
    "df_3.dtypes"
   ]
  },
  {
   "cell_type": "code",
   "execution_count": 20,
   "id": "ae453bbc",
   "metadata": {},
   "outputs": [
    {
     "data": {
      "text/plain": [
       "PERSON_ID     int32\n",
       "EMAIL        object\n",
       "dtype: object"
      ]
     },
     "execution_count": 20,
     "metadata": {},
     "output_type": "execute_result"
    }
   ],
   "source": [
    "df_3['PERSON_ID'] = df_3['PERSON_ID'].astype(int)\n",
    "df_3.dtypes"
   ]
  },
  {
   "cell_type": "code",
   "execution_count": 21,
   "id": "6ce1e60b",
   "metadata": {},
   "outputs": [
    {
     "data": {
      "text/html": [
       "<div>\n",
       "<style scoped>\n",
       "    .dataframe tbody tr th:only-of-type {\n",
       "        vertical-align: middle;\n",
       "    }\n",
       "\n",
       "    .dataframe tbody tr th {\n",
       "        vertical-align: top;\n",
       "    }\n",
       "\n",
       "    .dataframe thead th {\n",
       "        text-align: right;\n",
       "    }\n",
       "</style>\n",
       "<table border=\"1\" class=\"dataframe\">\n",
       "  <thead>\n",
       "    <tr style=\"text-align: right;\">\n",
       "      <th></th>\n",
       "      <th>PERSON_ID</th>\n",
       "      <th>EMAIL</th>\n",
       "    </tr>\n",
       "  </thead>\n",
       "  <tbody>\n",
       "    <tr>\n",
       "      <th>0</th>\n",
       "      <td>1</td>\n",
       "      <td>shershuko@mail.ru</td>\n",
       "    </tr>\n",
       "    <tr>\n",
       "      <th>1</th>\n",
       "      <td>1</td>\n",
       "      <td>shershuko-v@mail.ru</td>\n",
       "    </tr>\n",
       "    <tr>\n",
       "      <th>2</th>\n",
       "      <td>2</td>\n",
       "      <td>bitova@mail.ru</td>\n",
       "    </tr>\n",
       "    <tr>\n",
       "      <th>4</th>\n",
       "      <td>3</td>\n",
       "      <td>kirillov@mail.ru</td>\n",
       "    </tr>\n",
       "  </tbody>\n",
       "</table>\n",
       "</div>"
      ],
      "text/plain": [
       "   PERSON_ID                EMAIL\n",
       "0          1    shershuko@mail.ru\n",
       "1          1  shershuko-v@mail.ru\n",
       "2          2       bitova@mail.ru\n",
       "4          3     kirillov@mail.ru"
      ]
     },
     "execution_count": 21,
     "metadata": {},
     "output_type": "execute_result"
    }
   ],
   "source": [
    "df_3"
   ]
  },
  {
   "cell_type": "markdown",
   "id": "de71502f",
   "metadata": {},
   "source": [
    "Таблица emails готова, 4 строки, типы данных соответствуют назначению"
   ]
  },
  {
   "cell_type": "markdown",
   "id": "f6d49f3d",
   "metadata": {},
   "source": [
    "# <a id='toc2_'></a>[Создание таблиц и заливка исходных данных](#toc0_)"
   ]
  },
  {
   "cell_type": "markdown",
   "metadata": {},
   "source": [
    "## <a id='toc2_1_'></a>[Функции для работы](#toc0_)"
   ]
  },
  {
   "cell_type": "code",
   "execution_count": 35,
   "id": "6931dc5e",
   "metadata": {},
   "outputs": [],
   "source": [
    "# подключение к базе\n",
    "\n",
    "def create_connection(path):\n",
    "\n",
    "    connection = None\n",
    "    try:\n",
    "        connection = sqlite3.connect(path)\n",
    "        print(\"Connection successful to DB\")\n",
    "     \n",
    "    except Error as e:\n",
    "        print(f\"The error '{e}' occurred\")\n",
    "\n",
    "    return connection"
   ]
  },
  {
   "cell_type": "code",
   "execution_count": 36,
   "id": "fc23d788",
   "metadata": {},
   "outputs": [
    {
     "name": "stdout",
     "output_type": "stream",
     "text": [
      "Connection successful to DB\n"
     ]
    }
   ],
   "source": [
    "# создаем базу dar_bd\n",
    "\n",
    "db = 'dar_bd.db'\n",
    "connection = create_connection(db)"
   ]
  },
  {
   "cell_type": "code",
   "execution_count": 37,
   "id": "bc9a560b",
   "metadata": {},
   "outputs": [],
   "source": [
    "# запрос к базе execute\n",
    "def execute_query(connection, query):\n",
    "\n",
    "    cursor = connection.cursor()\n",
    "    try:\n",
    "        cursor.execute(query)\n",
    "        connection.commit()\n",
    "        print(\"The execute query is successful\")\n",
    "    except Error as e:\n",
    "        print(f\"The error '{e}' occurred\")"
   ]
  },
  {
   "cell_type": "code",
   "execution_count": 38,
   "id": "7b61bc7b",
   "metadata": {},
   "outputs": [],
   "source": [
    "# запрос к базе executemany\n",
    "def executemany_query(connection, query, values):\n",
    "\n",
    "    cursor = connection.cursor()\n",
    "    try:\n",
    "        cursor.executemany(query, values)\n",
    "        connection.commit()\n",
    "        print(\"The execute_many query is successful\")\n",
    "    except Error as e:\n",
    "        print(f\"The error '{e}' occurred\")"
   ]
  },
  {
   "cell_type": "code",
   "execution_count": 39,
   "id": "178245a2",
   "metadata": {},
   "outputs": [],
   "source": [
    "# ф-я выполнения скрипта и вывода результата\n",
    "\n",
    "def sql_fetch(con, sql_script):\n",
    "    cur = con.cursor()\n",
    "    cur.execute(sql_script)\n",
    "    rows = cur.fetchall()\n",
    "    for row in rows:\n",
    "        print(row)"
   ]
  },
  {
   "cell_type": "markdown",
   "metadata": {},
   "source": [
    "## <a id='toc2_2_'></a>[Создание и заполнение таблицы employee](#toc0_)"
   ]
  },
  {
   "cell_type": "markdown",
   "id": "c31aa0e1",
   "metadata": {},
   "source": [
    "Названия таблиц и столбцов будут даны по стандарту SQL (названия таблиц в ед.ч. с маленькой буквы, названия столбцов с маленькой буквы)"
   ]
  },
  {
   "cell_type": "code",
   "execution_count": null,
   "id": "bf71860c",
   "metadata": {},
   "outputs": [],
   "source": [
    "create_table = f\"\"\"\n",
    "CREATE TABLE IF NOT EXISTS (employee) (\n",
    "  empl_id INTEGER PRIMARY KEY AUTOINCREMENT,\n",
    "  name1 STRING,\n",
    "  name2 STRING,\n",
    "  name3 STRING\n",
    ");\n",
    "\"\"\"\n",
    "\n",
    "execute_query(connection, create_table)"
   ]
  },
  {
   "cell_type": "code",
   "execution_count": null,
   "id": "cd6e3229",
   "metadata": {},
   "outputs": [],
   "source": [
    "df_1.to_sql('employee', connection, if_exists='replace', index=False)"
   ]
  },
  {
   "cell_type": "code",
   "execution_count": null,
   "id": "dcf550e2",
   "metadata": {},
   "outputs": [],
   "source": [
    "sql_fetch(connection, \"select * from employee limit 5;\")"
   ]
  },
  {
   "cell_type": "code",
   "execution_count": null,
   "id": "fd93f99a",
   "metadata": {},
   "outputs": [],
   "source": [
    "sql_fetch(connection, \"pragma table_info(employee);\")   "
   ]
  },
  {
   "cell_type": "markdown",
   "metadata": {},
   "source": [
    "## <a id='toc2_3_'></a>[Создание и заполнение таблицы salary](#toc0_)"
   ]
  },
  {
   "cell_type": "code",
   "execution_count": 41,
   "id": "2b1e9030",
   "metadata": {},
   "outputs": [
    {
     "name": "stdout",
     "output_type": "stream",
     "text": [
      "The execute query is successful\n"
     ]
    }
   ],
   "source": [
    "create_table = f\"\"\"\n",
    "CREATE TABLE IF NOT EXISTS salary (\n",
    "  id INTEGER PRIMARY KEY AUTOINCREMENT,\n",
    "  dt DATETIME,\n",
    "  salary_type STRING,\n",
    "  amount DOUBLE\n",
    ");\n",
    "\"\"\"\n",
    "\n",
    "execute_query(connection, create_table)"
   ]
  },
  {
   "cell_type": "code",
   "execution_count": 43,
   "id": "bf3f59e7",
   "metadata": {},
   "outputs": [
    {
     "data": {
      "text/plain": [
       "98"
      ]
     },
     "execution_count": 43,
     "metadata": {},
     "output_type": "execute_result"
    }
   ],
   "source": [
    "df_2.to_sql('salary', connection, if_exists='replace', index=False)"
   ]
  },
  {
   "cell_type": "code",
   "execution_count": 44,
   "id": "18df3b8a",
   "metadata": {},
   "outputs": [
    {
     "name": "stdout",
     "output_type": "stream",
     "text": [
      "(1, '2019-12-01 00:00:00', 'salary', 50000)\n",
      "(1, '2020-01-01 00:00:00', 'salary', 50000)\n",
      "(1, '2020-02-01 00:00:00', 'salary', 50000)\n",
      "(1, '2020-03-01 00:00:00', 'salary', 50000)\n",
      "(1, '2020-04-01 00:00:00', 'salary', 50000)\n"
     ]
    }
   ],
   "source": [
    "sql_fetch(connection, \"select * from salary limit 5;\")"
   ]
  },
  {
   "cell_type": "code",
   "execution_count": 46,
   "id": "e921f0d6",
   "metadata": {},
   "outputs": [
    {
     "name": "stdout",
     "output_type": "stream",
     "text": [
      "(0, 'ID', 'INTEGER', 0, None, 0)\n",
      "(1, 'DATE', 'TIMESTAMP', 0, None, 0)\n",
      "(2, 'TYPE', 'TEXT', 0, None, 0)\n",
      "(3, 'VALUE', 'INTEGER', 0, None, 0)\n"
     ]
    }
   ],
   "source": [
    "sql_fetch(connection, \"pragma table_info(salary);\")   "
   ]
  },
  {
   "cell_type": "markdown",
   "metadata": {},
   "source": [
    "## <a id='toc2_4_'></a>[Создание и заполнение таблицы email](#toc0_)"
   ]
  },
  {
   "cell_type": "code",
   "execution_count": 47,
   "id": "4fc5700a",
   "metadata": {},
   "outputs": [
    {
     "name": "stdout",
     "output_type": "stream",
     "text": [
      "The execute query is successful\n"
     ]
    }
   ],
   "source": [
    "create_table = f\"\"\"\n",
    "CREATE TABLE IF NOT EXISTS email (\n",
    "  id INTEGER PRIMARY KEY AUTOINCREMENT,\n",
    "  person_id INTEGER,\n",
    "  email STRING\n",
    ");\n",
    "\"\"\"\n",
    "\n",
    "execute_query(connection, create_table)"
   ]
  },
  {
   "cell_type": "code",
   "execution_count": 48,
   "id": "2f3ccbd9",
   "metadata": {},
   "outputs": [
    {
     "data": {
      "text/plain": [
       "4"
      ]
     },
     "execution_count": 48,
     "metadata": {},
     "output_type": "execute_result"
    }
   ],
   "source": [
    "df_3.to_sql('email', connection, if_exists='replace', index=False)"
   ]
  },
  {
   "cell_type": "code",
   "execution_count": 49,
   "id": "258cc45e",
   "metadata": {},
   "outputs": [
    {
     "name": "stdout",
     "output_type": "stream",
     "text": [
      "(1, 'shershuko@mail.ru')\n",
      "(1, 'shershuko-v@mail.ru')\n",
      "(2, 'bitova@mail.ru')\n",
      "(3, 'kirillov@mail.ru')\n"
     ]
    }
   ],
   "source": [
    "sql_fetch(connection, \"select * from email limit 5;\")"
   ]
  },
  {
   "cell_type": "code",
   "execution_count": 50,
   "id": "724d514f",
   "metadata": {},
   "outputs": [
    {
     "name": "stdout",
     "output_type": "stream",
     "text": [
      "(0, 'PERSON_ID', 'INTEGER', 0, None, 0)\n",
      "(1, 'EMAIL', 'TEXT', 0, None, 0)\n"
     ]
    }
   ],
   "source": [
    "sql_fetch(connection, \"pragma table_info(email);\")   "
   ]
  },
  {
   "cell_type": "markdown",
   "metadata": {},
   "source": [
    "# <a id='toc3_'></a>[Отчет](#toc0_)"
   ]
  },
  {
   "cell_type": "markdown",
   "id": "6925ed39",
   "metadata": {},
   "source": [
    "В отчете называем поля так, как указано в задании, с заглавными буквами"
   ]
  },
  {
   "cell_type": "code",
   "execution_count": null,
   "id": "7b877f3b",
   "metadata": {},
   "outputs": [],
   "source": [
    "sql_fetch(connection, \"select e.empl_id as Empl_ID, \\\n",
    "                CONCAT (e.name1, ' ', e.name2, ' ', e.name3) as FIO, \\\n",
    "                avg(VALUE) FILTER (WHERE type = 'salary') as Salary, \\\n",
    "                avg(VALUE) FILTER (WHERE type = 'bonus') as Bonus,  \\\n",
    "                em.email as Email\\\n",
    "                from employee e left join salary s on e.empl_ID =  s.id \\\n",
    "                left join email em on em.person_id = e.empl_id \\\n",
    "            ;\")"
   ]
  },
  {
   "cell_type": "code",
   "execution_count": null,
   "id": "7846ad8a",
   "metadata": {},
   "outputs": [],
   "source": [
    "connection.close()"
   ]
  }
 ],
 "metadata": {
  "kernelspec": {
   "display_name": "Python 3",
   "language": "python",
   "name": "python3"
  },
  "language_info": {
   "codemirror_mode": {
    "name": "ipython",
    "version": 3
   },
   "file_extension": ".py",
   "mimetype": "text/x-python",
   "name": "python",
   "nbconvert_exporter": "python",
   "pygments_lexer": "ipython3",
   "version": "3.11.5"
  }
 },
 "nbformat": 4,
 "nbformat_minor": 5
}
